{
 "cells": [
  {
   "cell_type": "code",
   "execution_count": 1,
   "metadata": {},
   "outputs": [],
   "source": [
    "%load_ext autoreload\n",
    "%autoreload 2"
   ]
  },
  {
   "cell_type": "code",
   "execution_count": 2,
   "metadata": {},
   "outputs": [],
   "source": [
    "import warnings\n",
    "import numpy as np\n",
    "warnings.filterwarnings('ignore')\n",
    "warnings.simplefilter('ignore', np.RankWarning)"
   ]
  },
  {
   "cell_type": "code",
   "execution_count": 3,
   "metadata": {},
   "outputs": [],
   "source": [
    "from tqdm import tqdm\n",
    "import os\n",
    "import data_utils\n",
    "import model_utils\n",
    "from attack_utils import get_CSMIA_case_by_case_results, CSMIA_attack, LOMIA_attack, get_LOMIA_results\n",
    "from data_utils import oneHotCatVars, filter_random_data_by_conf_score\n",
    "from experiment_utils import MIAExperiment\n",
    "from disparity_inference_utils import get_confidence_array, draw_confidence_array_scatter, get_indices_by_group_condition, get_corr_btn_sens_and_out_per_subgroup, get_slopes, get_angular_difference, calculate_stds, get_mutual_info_btn_sens_and_out_per_subgroup\n",
    "from targeted_inference import get_angular_difference_range_for_subgroup,single_attribute_based_targeted_imputation, nested_attribute_based_targeted_imputation, single_attribute_based_targeted_ai, nested_attribute_based_targeted_ai\n",
    "import numpy as np\n",
    "import pandas as pd\n",
    "import torch\n",
    "import torch.nn as nn\n",
    "from sklearn.neural_network import MLPClassifier\n",
    "from sklearn.preprocessing import OneHotEncoder\n",
    "from sklearn.neural_network._base import ACTIVATIONS\n",
    "from sklearn.model_selection import train_test_split\n",
    "from sklearn.metrics.pairwise import euclidean_distances\n",
    "from sklearn.metrics import roc_curve, auc, roc_auc_score, accuracy_score, precision_score, recall_score, f1_score, confusion_matrix, classification_report\n",
    "from sklearn.decomposition import PCA\n",
    "from sklearn.inspection import permutation_importance\n",
    "import matplotlib.pyplot as plt\n",
    "import seaborn as sns\n",
    "import tabulate\n",
    "import pickle\n",
    "# import utils\n",
    "import copy\n",
    "from scipy.stats import kendalltau, spearmanr\n",
    "\n",
    "import matplotlib as mpl\n",
    "\n",
    "# Setting the font family, size, and weight globally\n",
    "mpl.rcParams['font.family'] = 'DejaVu Sans'\n",
    "mpl.rcParams['font.size'] = 8\n",
    "mpl.rcParams['font.weight'] = 'light'"
   ]
  },
  {
   "cell_type": "markdown",
   "metadata": {},
   "source": [
    "# Load Dataset"
   ]
  },
  {
   "cell_type": "code",
   "execution_count": 4,
   "metadata": {},
   "outputs": [],
   "source": [
    "experiment_root = MIAExperiment(sampling_condition_dict = \n",
    "    {\n",
    "            'subgroup_col_name': 'ST',\n",
    "            'n': 1000,\n",
    "    }, random_state = 0,\n",
    "    shortname = f\"Corr_btn_sens_and_output_for_ST_ranging_from_0_to_-0.5_random_state_0\"\n",
    ")"
   ]
  },
  {
   "cell_type": "markdown",
   "metadata": {},
   "source": [
    "# Train/Load Models"
   ]
  },
  {
   "cell_type": "code",
   "execution_count": 5,
   "metadata": {},
   "outputs": [
    {
     "name": "stdout",
     "output_type": "stream",
     "text": [
      "Training classifier for experiment: Corr_btn_sens_and_output_for_ST_ranging_from_0_to_-0.5_random_state_0 with depth: 2\n",
      "Training classifier for experiment: Corr_btn_sens_and_output_for_ST_ranging_from_0_to_-0.5_random_state_0 with depth: 3\n",
      "Loaded classifier for experiment from file: Census19_subgroup_col_name_ST_n_1000_rs0\n",
      "Training classifier for experiment: Corr_btn_sens_and_output_for_ST_ranging_from_0_to_-0.5_random_state_0 with depth: 4\n"
     ]
    }
   ],
   "source": [
    "depth_dict = {2: [16, 8], 3: [32, 16, 8], 4: [64, 32, 16, 8]}\n",
    "\n",
    "experiments = {}\n",
    "\n",
    "save_model = True\n",
    "\n",
    "for depth in depth_dict:\n",
    "    print(f\"Training classifier for experiment: {experiment_root.shortname} with depth: {depth}\")\n",
    "    postfix = f\"_depth_{depth}\" if depth != 3 else \"\"\n",
    "    experiment = copy.deepcopy(experiment_root)\n",
    "    experiments[depth] = experiment\n",
    "    try:\n",
    "        experiment.clf = model_utils.load_model(f'<PATH_TO_MODEL>/{experiment.ds.ds.filenameroot}_target_model{postfix}.pkl')\n",
    "        print(f\"Loaded classifier for experiment from file: {experiment}\")\n",
    "    except:\n",
    "        # clf = model_utils.get_model(max_iter=500, hidden_layer_sizes=(256, 256))\n",
    "        experiment.clf = model_utils.get_model(max_iter=500, hidden_layer_sizes=depth_dict[depth])\n",
    "        experiment.clf.fit(experiment.X_train, experiment.y_tr_onehot)\n",
    "\n",
    "        if save_model:\n",
    "            model_utils.save_model(experiment.clf, f'<PATH_TO_MODEL>/{experiment.ds.ds.filenameroot}_target_model{postfix}.pkl')\n",
    "\n"
   ]
  },
  {
   "cell_type": "code",
   "execution_count": 6,
   "metadata": {},
   "outputs": [],
   "source": [
    "for experiment_key in experiments:\n",
    "    experiment = experiments[experiment_key]\n",
    "    experiment.nested_attrib_cols = ['ST', 'SCHL', 'RAC1P', 'SEX']\n",
    "    experiment.single_kappas = [1, 0.75, 0.5, 0.375, 0.25, 0.1, 0.05]\n",
    "    experiment.nested_kappas = [0.5, 0.375, 0.25, 0.1]\n",
    "    experiment.subgroup_col_name = 'ST'"
   ]
  },
  {
   "cell_type": "code",
   "execution_count": 7,
   "metadata": {},
   "outputs": [],
   "source": [
    "for experiment_key in experiments:\n",
    "    experiment = experiments[experiment_key]\n",
    "    experiment.confidence_array = get_confidence_array(experiment, experiment.X_train, experiment.y_te, experiment.clf)\n",
    "    sens_pred, case_indices = CSMIA_attack(experiment.clf, experiment.X_train, experiment.y_tr, experiment.ds.ds.meta)\n",
    "    case_2_indices = case_indices[2]\n",
    "    experiment.case_2_indices = case_2_indices\n",
    "    experiment.confidence_array_case_2 = experiment.confidence_array[case_2_indices, :]\n",
    "    experiment.X_case_2 = experiment.X_train.loc[case_2_indices].copy().reset_index(drop=True)\n",
    "    experiment.y_case_2 = experiment.y_tr.ravel()[case_2_indices]\n",
    "    experiment.sens_pred = sens_pred\n",
    "    experiment.sens_pred_LOMIA = LOMIA_attack(experiment, experiment.clf, experiment.X_train, experiment.y_tr, experiment.ds.ds.meta)"
   ]
  },
  {
   "cell_type": "markdown",
   "metadata": {},
   "source": [
    "# Single Attribute-based Targeted Attribute Inference"
   ]
  },
  {
   "cell_type": "code",
   "execution_count": 8,
   "metadata": {},
   "outputs": [
    {
     "name": "stdout",
     "output_type": "stream",
     "text": [
      "Performance of Single Attribute Based Targeted AI: CSMIA\n",
      "\n",
      "Depth 2\n",
      "\n",
      "       attack_accuracy\n",
      "0.050            72.50\n",
      "0.100            72.75\n",
      "0.250            70.89\n",
      "0.375            69.52\n",
      "0.500            67.11\n",
      "0.750            64.19\n",
      "1.000            61.28\n",
      "\n",
      "Depth 3\n",
      "\n",
      "       attack_accuracy\n",
      "0.050            71.57\n",
      "0.100            69.59\n",
      "0.250            67.27\n",
      "0.375            65.87\n",
      "0.500            64.55\n",
      "0.750            62.14\n",
      "1.000            60.24\n",
      "\n",
      "Depth 4\n",
      "\n",
      "       attack_accuracy\n",
      "0.050            71.42\n",
      "0.100            69.86\n",
      "0.250            67.62\n",
      "0.375            65.98\n",
      "0.500            64.64\n",
      "0.750            63.02\n",
      "1.000            61.44\n"
     ]
    }
   ],
   "source": [
    "print('Performance of Single Attribute Based Targeted AI: CSMIA')\n",
    "for experiment_key in experiments:\n",
    "    experiment = experiments[experiment_key]\n",
    "    print(f'\\nDepth {experiment_key}\\n')\n",
    "    print(single_attribute_based_targeted_ai(experiment, experiment.sens_pred, subgroup_col_name=experiment.subgroup_col_name, kappas=experiment.single_kappas))"
   ]
  },
  {
   "cell_type": "code",
   "execution_count": 9,
   "metadata": {},
   "outputs": [
    {
     "name": "stdout",
     "output_type": "stream",
     "text": [
      "Performance of Single Attribute Based Targeted AI: LOMIA\n",
      "\n",
      "Depth 2\n",
      "\n",
      "       attack_accuracy\n",
      "0.050            73.37\n",
      "0.100            73.21\n",
      "0.250            71.01\n",
      "0.375            69.59\n",
      "0.500            67.60\n",
      "0.750            64.10\n",
      "1.000            60.51\n",
      "\n",
      "Depth 3\n",
      "\n",
      "       attack_accuracy\n",
      "0.050            73.84\n",
      "0.100            72.96\n",
      "0.250            70.39\n",
      "0.375            69.04\n",
      "0.500            67.86\n",
      "0.750            65.95\n",
      "1.000            62.70\n",
      "\n",
      "Depth 4\n",
      "\n",
      "       attack_accuracy\n",
      "0.050            72.83\n",
      "0.100            73.13\n",
      "0.250            70.29\n",
      "0.375            68.39\n",
      "0.500            66.77\n",
      "0.750            64.53\n",
      "1.000            61.74\n"
     ]
    }
   ],
   "source": [
    "print('Performance of Single Attribute Based Targeted AI: LOMIA')\n",
    "for experiment_key in experiments:\n",
    "    experiment = experiments[experiment_key]\n",
    "    print(f'\\nDepth {experiment_key}\\n')\n",
    "    print(single_attribute_based_targeted_ai(experiment, experiment.sens_pred_LOMIA, subgroup_col_name=experiment.subgroup_col_name, kappas=experiment.single_kappas))"
   ]
  },
  {
   "cell_type": "markdown",
   "metadata": {},
   "source": [
    "# Nested Attribute-based Targeted Attribute Inference"
   ]
  },
  {
   "cell_type": "code",
   "execution_count": 10,
   "metadata": {},
   "outputs": [
    {
     "name": "stdout",
     "output_type": "stream",
     "text": [
      "Performance of Nested Attribute Based Targeted AI: CSMIA\n",
      "\n",
      "Depth 2\n",
      "\n",
      "       Depth  attack_accuracy\n",
      "1.000      0            61.28\n",
      "0.500      1            67.48\n",
      "0.375      2            67.93\n",
      "0.250      3            67.23\n",
      "0.100      4            70.48\n",
      "\n",
      "Depth 3\n",
      "\n",
      "       Depth  attack_accuracy\n",
      "1.000      0            60.24\n",
      "0.500      1            64.89\n",
      "0.375      2            64.39\n",
      "0.250      3            64.28\n",
      "0.100      4            68.31\n",
      "\n",
      "Depth 4\n",
      "\n",
      "       Depth  attack_accuracy\n",
      "1.000      0            61.44\n",
      "0.500      1            64.91\n",
      "0.375      2            64.75\n",
      "0.250      3            65.20\n",
      "0.100      4            67.67\n"
     ]
    }
   ],
   "source": [
    "print('Performance of Nested Attribute Based Targeted AI: CSMIA')\n",
    "for experiment_key in experiments:\n",
    "    experiment = experiments[experiment_key]\n",
    "    print(f'\\nDepth {experiment_key}\\n')\n",
    "    print(nested_attribute_based_targeted_ai(experiment, experiment.sens_pred, subgroup_cols=experiment.nested_attrib_cols, kappas=experiment.nested_kappas))"
   ]
  },
  {
   "cell_type": "code",
   "execution_count": 11,
   "metadata": {},
   "outputs": [
    {
     "name": "stdout",
     "output_type": "stream",
     "text": [
      "Performance of Nested Attribute Based Targeted AI: LOMIA\n",
      "\n",
      "Depth 2\n",
      "\n",
      "       Depth  attack_accuracy\n",
      "1.000      0            60.51\n",
      "0.500      1            67.96\n",
      "0.375      2            69.05\n",
      "0.250      3            68.01\n",
      "0.100      4            71.07\n",
      "\n",
      "Depth 3\n",
      "\n",
      "       Depth  attack_accuracy\n",
      "1.000      0            62.70\n",
      "0.500      1            68.06\n",
      "0.375      2            67.98\n",
      "0.250      3            67.95\n",
      "0.100      4            71.24\n",
      "\n",
      "Depth 4\n",
      "\n",
      "       Depth  attack_accuracy\n",
      "1.000      0            61.74\n",
      "0.500      1            67.06\n",
      "0.375      2            66.87\n",
      "0.250      3            66.72\n",
      "0.100      4            69.94\n"
     ]
    }
   ],
   "source": [
    "print('Performance of Nested Attribute Based Targeted AI: LOMIA')\n",
    "for experiment_key in experiments:\n",
    "    experiment = experiments[experiment_key]\n",
    "    print(f'\\nDepth {experiment_key}\\n')\n",
    "    print(nested_attribute_based_targeted_ai(experiment, experiment.sens_pred_LOMIA, subgroup_cols=experiment.nested_attrib_cols, kappas=experiment.nested_kappas))"
   ]
  }
 ],
 "metadata": {
  "kernelspec": {
   "display_name": "tabular",
   "language": "python",
   "name": "python3"
  },
  "language_info": {
   "codemirror_mode": {
    "name": "ipython",
    "version": 3
   },
   "file_extension": ".py",
   "mimetype": "text/x-python",
   "name": "python",
   "nbconvert_exporter": "python",
   "pygments_lexer": "ipython3",
   "version": "3.9.16"
  }
 },
 "nbformat": 4,
 "nbformat_minor": 2
}
