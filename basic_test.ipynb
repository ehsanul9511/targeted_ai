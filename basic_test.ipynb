{
 "cells": [
  {
   "cell_type": "code",
   "execution_count": 1,
   "metadata": {},
   "outputs": [],
   "source": [
    "%load_ext autoreload\n",
    "%autoreload 2"
   ]
  },
  {
   "cell_type": "code",
   "execution_count": 2,
   "metadata": {},
   "outputs": [],
   "source": [
    "import warnings\n",
    "\n",
    "warnings.filterwarnings('ignore')"
   ]
  },
  {
   "cell_type": "code",
   "execution_count": 3,
   "metadata": {},
   "outputs": [],
   "source": [
    "from tqdm import tqdm\n",
    "import os\n",
    "import data_utils\n",
    "import model_utils\n",
    "from attack_utils import get_CSMIA_case_by_case_results, CSMIA_attack, LOMIA_attack\n",
    "from data_utils import oneHotCatVars, filter_random_data_by_conf_score\n",
    "from experiment_utils import MIAExperiment\n",
    "from disparity_inference_utils import get_confidence_array, draw_confidence_array_scatter, get_indices_by_group_condition, get_corr_btn_sens_and_out_per_subgroup, get_slopes, get_angular_difference, calculate_stds, get_mutual_info_btn_sens_and_out_per_subgroup\n",
    "from bcorr_utils import bcorr_sampling, evaluate, MLPClassifierFC\n",
    "import numpy as np\n",
    "import pandas as pd\n",
    "import torch\n",
    "import torch.nn as nn\n",
    "from sklearn.neural_network import MLPClassifier\n",
    "from sklearn.preprocessing import OneHotEncoder\n",
    "from sklearn.neural_network._base import ACTIVATIONS\n",
    "from sklearn.model_selection import train_test_split\n",
    "from sklearn.metrics.pairwise import euclidean_distances\n",
    "from sklearn.metrics import roc_curve, auc, roc_auc_score, accuracy_score, precision_score, recall_score, f1_score, confusion_matrix, classification_report\n",
    "from sklearn.decomposition import PCA\n",
    "from sklearn.inspection import permutation_importance\n",
    "from fairlearn.metrics import equalized_odds_difference, demographic_parity_difference\n",
    "import matplotlib.pyplot as plt\n",
    "import seaborn as sns\n",
    "import tabulate\n",
    "import pickle\n",
    "import copy\n",
    "\n",
    "import matplotlib as mpl"
   ]
  },
  {
   "cell_type": "markdown",
   "metadata": {},
   "source": [
    "# Load Dataset"
   ]
  },
  {
   "cell_type": "code",
   "execution_count": 4,
   "metadata": {},
   "outputs": [],
   "source": [
    "experiments = {}\n",
    "\n",
    "i = -0.4\n",
    "j = -0.1\n",
    "experiment = MIAExperiment(sampling_condition_dict = \n",
    "    {\n",
    "            'subgroup_col_name': 'SEX',\n",
    "            'n': 25000,\n",
    "            'correlation_by_subgroup_values': [i, j],\n",
    "    }, shortname = f\"Corr_btn_sens_and_output_for_male_({i})_for_female_({j})\", random_state = 0\n",
    ")\n",
    "experiments[experiment.name] = experiment\n",
    "\n",
    "experiment_texas = MIAExperiment(sampling_condition_dict =\n",
    "    {\n",
    "            'subgroup_col_name': 'SEX_CODE',\n",
    "            'n': 25000,\n",
    "            'correlation_by_subgroup_values': [i, j],\n",
    "    }, shortname = f\"Corr_btn_sens_and_output_for_male_({i})_for_female_({j})\", random_state = 0, name = \"Texas100\", sensitive_column = 'ETHNICITY'\n",
    ")\n",
    "experiments[experiment_texas.name] = experiment_texas\n",
    "\n",
    "i = 0\n",
    "experiment_multi_valued = MIAExperiment(sampling_condition_dict = \n",
    "        {\n",
    "                'subgroup_col_name': 'ST',\n",
    "                'n': 1000,\n",
    "        }, random_state = i,\n",
    "        shortname = f\"Corr_btn_sens_and_output_for_ST_ranging_from_0_to_-0.5_random_state_{i}\"\n",
    "    )\n",
    "experiments[f\"{experiment_multi_valued.name}_multi_valued\"] = experiment_multi_valued\n",
    "\n",
    "subgroup_vals = [1, 2, 3, 4, 6, 20, 50, 51, 62, 63]\n",
    "experiment_multi_valued_texas = MIAExperiment(sampling_condition_dict = \n",
    "    {\n",
    "            'subgroup_col_name': 'PAT_STATUS',\n",
    "            'subgroup_values': subgroup_vals,\n",
    "            'n': 5000\n",
    "    }, shortname = f\"Corr_btn_sens_and_output_for_PAT_STATUS_ranging_from_0_to_-0.5\", name='Texas100', sensitive_column='SEX_CODE'\n",
    ")\n",
    "experiments[f\"{experiment_multi_valued_texas.name}_multi_valued\"] = experiment_multi_valued_texas"
   ]
  },
  {
   "cell_type": "code",
   "execution_count": 5,
   "metadata": {},
   "outputs": [
    {
     "name": "stdout",
     "output_type": "stream",
     "text": [
      "\n",
      "Dataset: Census19, Subgroup: SEX\n",
      "Correlations: {'0': -0.4, '1': -0.1}\n",
      "\n",
      "Dataset: Texas100, Subgroup: SEX_CODE\n",
      "Correlations: {'0': -0.4, '1': -0.1}\n",
      "\n",
      "Dataset: Census19, Subgroup: ST\n",
      "Correlations: {'0': 0.0, '1': -0.01, '2': -0.02, '3': -0.03, '4': -0.04, '5': -0.05, '6': -0.06, '7': -0.07, '8': -0.08, '9': -0.09, '10': -0.1, '11': -0.11, '12': -0.12, '13': -0.13, '14': -0.14, '15': -0.15, '16': -0.16, '17': -0.17, '18': -0.18, '19': -0.18, '20': -0.2, '21': -0.21, '22': -0.21, '23': -0.23, '24': -0.23, '25': -0.25, '26': -0.25, '27': -0.27, '28': -0.27, '29': -0.29, '30': -0.29, '31': -0.3, '32': -0.31, '33': -0.32, '34': -0.33, '35': -0.34, '36': -0.35, '37': -0.36, '38': -0.37, '39': -0.38, '40': -0.39, '41': -0.38, '42': -0.41, '43': -0.42, '44': -0.43, '45': -0.44, '46': -0.45, '47': -0.46, '48': -0.47, '49': -0.48, '50': -0.49}\n",
      "\n",
      "Dataset: Texas100, Subgroup: PAT_STATUS\n",
      "Correlations: {'1': -0.0, '2': 0.05, '3': 0.1, '4': 0.15, '6': 0.2, '20': 0.25, '50': 0.3, '51': 0.35, '62': 0.4, '63': 0.45}\n"
     ]
    }
   ],
   "source": [
    "for experiment_key in experiments:\n",
    "    experiment = experiments[experiment_key]\n",
    "    experiment.subgroup_col_name = experiment.sampling_condition_dict['subgroup_col_name']\n",
    "    experiment.subgroup_vals = [col.split('_')[-1] for col in experiment.X_train.columns if col.startswith(experiment.subgroup_col_name)]\n",
    "    print(f\"\\nDataset: {experiment.name}, Subgroup: {experiment.subgroup_col_name}\")\n",
    "    correlations_dict = {val: round(get_corr_btn_sens_and_out_per_subgroup(experiment, experiment.X_train, experiment.y_tr, {experiment.subgroup_col_name: val}), 2) for val in experiment.subgroup_vals}\n",
    "    print(f\"Correlations: {correlations_dict}\")"
   ]
  }
 ],
 "metadata": {
  "kernelspec": {
   "display_name": "tabular",
   "language": "python",
   "name": "python3"
  },
  "language_info": {
   "codemirror_mode": {
    "name": "ipython",
    "version": 3
   },
   "file_extension": ".py",
   "mimetype": "text/x-python",
   "name": "python",
   "nbconvert_exporter": "python",
   "pygments_lexer": "ipython3",
   "version": "3.9.16"
  }
 },
 "nbformat": 4,
 "nbformat_minor": 2
}
