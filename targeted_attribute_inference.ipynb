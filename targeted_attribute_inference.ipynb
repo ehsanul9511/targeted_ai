{
 "cells": [
  {
   "attachments": {},
   "cell_type": "markdown",
   "metadata": {},
   "source": [
    "# Load Library"
   ]
  },
  {
   "cell_type": "code",
   "execution_count": 1,
   "metadata": {},
   "outputs": [],
   "source": [
    "%load_ext autoreload\n",
    "%autoreload 2"
   ]
  },
  {
   "cell_type": "code",
   "execution_count": 2,
   "metadata": {},
   "outputs": [],
   "source": [
    "import warnings\n",
    "import numpy as np\n",
    "warnings.filterwarnings('ignore')\n",
    "warnings.simplefilter('ignore', np.RankWarning)"
   ]
  },
  {
   "cell_type": "code",
   "execution_count": 3,
   "metadata": {
    "tags": []
   },
   "outputs": [],
   "source": [
    "from tqdm import tqdm\n",
    "import os\n",
    "import data_utils\n",
    "import model_utils\n",
    "from attack_utils import get_CSMIA_case_by_case_results, CSMIA_attack, LOMIA_attack, get_LOMIA_results\n",
    "from data_utils import oneHotCatVars, filter_random_data_by_conf_score\n",
    "from experiment_utils import MIAExperiment\n",
    "from disparity_inference_utils import get_confidence_array, draw_confidence_array_scatter, get_indices_by_group_condition, get_corr_btn_sens_and_out_per_subgroup, get_slopes, get_angular_difference, calculate_stds, get_mutual_info_btn_sens_and_out_per_subgroup\n",
    "from targeted_inference import get_angular_difference_range_for_subgroup,single_attribute_based_targeted_imputation, nested_attribute_based_targeted_imputation, single_attribute_based_targeted_ai, nested_attribute_based_targeted_ai\n",
    "import numpy as np\n",
    "import pandas as pd\n",
    "import torch\n",
    "import torch.nn as nn\n",
    "from sklearn.neural_network import MLPClassifier\n",
    "from sklearn.preprocessing import OneHotEncoder\n",
    "from sklearn.neural_network._base import ACTIVATIONS\n",
    "from sklearn.model_selection import train_test_split\n",
    "from sklearn.metrics.pairwise import euclidean_distances\n",
    "from sklearn.metrics import roc_curve, auc, roc_auc_score, accuracy_score, precision_score, recall_score, f1_score, confusion_matrix, classification_report\n",
    "from sklearn.decomposition import PCA\n",
    "from sklearn.inspection import permutation_importance\n",
    "import matplotlib.pyplot as plt\n",
    "import seaborn as sns\n",
    "import tabulate\n",
    "import pickle\n",
    "# import utils\n",
    "import copy\n",
    "from scipy.stats import kendalltau, spearmanr\n",
    "\n",
    "import matplotlib as mpl\n",
    "\n",
    "# Setting the font family, size, and weight globally\n",
    "mpl.rcParams['font.family'] = 'DejaVu Sans'\n",
    "mpl.rcParams['font.size'] = 8\n",
    "mpl.rcParams['font.weight'] = 'light'"
   ]
  },
  {
   "cell_type": "code",
   "execution_count": 4,
   "metadata": {},
   "outputs": [],
   "source": [
    "experiments = {}\n",
    "for i in range(1):\n",
    "    experiment = MIAExperiment(sampling_condition_dict = \n",
    "        {\n",
    "                'subgroup_col_name': 'ST',\n",
    "                'n': 1000,\n",
    "        }, random_state = i,\n",
    "        shortname = f\"Corr_btn_sens_and_output_for_ST_ranging_from_0_to_-0.5_random_state_{i}\"\n",
    "    )\n",
    "    experiments[experiment.shortname] = experiment\n",
    "\n",
    "    subgroup_vals = [1, 2, 3, 4, 6, 20, 50, 51, 62, 63]\n",
    "    experiment_texas = MIAExperiment(sampling_condition_dict = \n",
    "        {\n",
    "                'subgroup_col_name': 'PAT_STATUS',\n",
    "                'subgroup_values': subgroup_vals,\n",
    "                # 'subgroup_values': ['1', '2', '3', '4', '6', '20', '50', '51', '62', '63'],\n",
    "                'n': 5000,\n",
    "        }, random_state = i,\n",
    "        shortname = f\"Corr_btn_sens_and_output_for_PAT_STATUS_ranging_from_0_to_-0.5_random_state_{i}\", \n",
    "        name='Texas100', sensitive_column='SEX_CODE'\n",
    "    )\n",
    "    experiments[experiment_texas.shortname] = experiment_texas\n",
    "    experiment_adult = MIAExperiment(name='Adult', random_state = i)\n",
    "    experiments['Adult'] = experiment_adult"
   ]
  },
  {
   "cell_type": "code",
   "execution_count": 5,
   "metadata": {},
   "outputs": [
    {
     "name": "stdout",
     "output_type": "stream",
     "text": [
      "Training classifier for experiment: Census19_subgroup_col_name_ST_n_1000_rs0\n",
      "Loaded classifier for experiment from file: Census19_subgroup_col_name_ST_n_1000_rs0\n",
      "Training classifier for experiment: Texas100_subgroup_col_name_PAT_STATUS_subgroup_values_[1, 2, 3, 4, 6, 20, 50, 51, 62, 63]_n_5000_rs0\n",
      "Loaded classifier for experiment from file: Texas100_subgroup_col_name_PAT_STATUS_subgroup_values_[1, 2, 3, 4, 6, 20, 50, 51, 62, 63]_n_5000_rs0\n",
      "Training classifier for experiment: Adult\n",
      "Loaded classifier for experiment from file: Adult\n"
     ]
    }
   ],
   "source": [
    "save_model = True\n",
    "\n",
    "for experiment_key in experiments:\n",
    "    experiment = experiments[experiment_key]\n",
    "    \n",
    "    print(f\"Training classifier for experiment: {experiment}\")\n",
    "    try:\n",
    "        experiment.clf = model_utils.load_model(f'<PATH_TO_MODEL>/{experiment.ds.ds.filenameroot}_target_model.pkl')\n",
    "        print(f\"Loaded classifier for experiment from file: {experiment}\")\n",
    "    except:\n",
    "        # clf = model_utils.get_model(max_iter=500, hidden_layer_sizes=(256, 256))\n",
    "        experiment.clf = model_utils.get_model(max_iter=500)\n",
    "        experiment.clf.fit(experiment.X_train, experiment.y_tr_onehot)\n",
    "\n",
    "        if save_model:\n",
    "            model_utils.save_model(experiment.clf, f'<PATH_TO_MODEL>/{experiment.ds.ds.filenameroot}_target_model.pkl')"
   ]
  },
  {
   "cell_type": "code",
   "execution_count": 6,
   "metadata": {},
   "outputs": [],
   "source": [
    "n_aux_samples = 5000\n",
    "for experiment_key in experiments:\n",
    "    experiment = experiments[experiment_key]\n",
    "    aux_indices_same_distrib = experiment.X_train.sample(n=n_aux_samples, random_state=experiment.random_state).index\n",
    "    experiment.X_aux_same_distrib, experiment.y_aux_same_distrib = experiment.X_train.loc[aux_indices_same_distrib].copy().reset_index(drop=True), experiment.y_tr[aux_indices_same_distrib]\n",
    "\n",
    "    if experiment.name == 'Adult':\n",
    "        X_aux = experiment.X_test.copy()\n",
    "        y_aux = experiment.y_te\n",
    "        married_indices = X_aux[X_aux['marital_Married']==True].index\n",
    "        single_indices = X_aux[X_aux['marital_Married']==False].index\n",
    "        total_count, pcnt_single = n_aux_samples, 0.15\n",
    "        married_sample_indices = X_aux.loc[married_indices].sample(n=total_count-int(total_count * pcnt_single), replace=False, random_state=42).index\n",
    "        single_sample_indices = X_aux.loc[single_indices].sample(n=int(total_count * pcnt_single), replace=False, random_state=42).index\n",
    "\n",
    "        all_sample_indices = married_sample_indices.append(single_sample_indices)\n",
    "        experiment.X_aux_diff_distrib, experiment.y_aux_diff_distrib = X_aux.loc[all_sample_indices].copy().reset_index(drop=True), y_aux[all_sample_indices]\n",
    "    else:\n",
    "        aux_indices_diff_distrib = experiment.X_test.sample(n=n_aux_samples, random_state=experiment.random_state).index\n",
    "        experiment.X_aux_diff_distrib, experiment.y_aux_diff_distrib = experiment.X_test.loc[aux_indices_diff_distrib].copy().reset_index(drop=True), experiment.y_te[aux_indices_diff_distrib]"
   ]
  },
  {
   "cell_type": "code",
   "execution_count": 7,
   "metadata": {},
   "outputs": [],
   "source": [
    "for experiment_key in experiments:\n",
    "    experiment = experiments[experiment_key]\n",
    "    experiment.confidence_array = get_confidence_array(experiment, experiment.X_train, experiment.y_te, experiment.clf)\n",
    "    sens_pred, case_indices = CSMIA_attack(experiment.clf, experiment.X_train, experiment.y_tr, experiment.ds.ds.meta)\n",
    "    case_2_indices = case_indices[2]\n",
    "    experiment.case_2_indices = case_2_indices\n",
    "    experiment.confidence_array_case_2 = experiment.confidence_array[case_2_indices, :]\n",
    "    experiment.X_case_2 = experiment.X_train.loc[case_2_indices].copy().reset_index(drop=True)\n",
    "    experiment.y_case_2 = experiment.y_tr.ravel()[case_2_indices]\n",
    "    experiment.sens_pred = sens_pred\n",
    "    experiment.sens_pred_LOMIA = LOMIA_attack(experiment, experiment.clf, experiment.X_train, experiment.y_tr, experiment.ds.ds.meta)"
   ]
  },
  {
   "cell_type": "code",
   "execution_count": 8,
   "metadata": {},
   "outputs": [],
   "source": [
    "for experiment_key in experiments:\n",
    "    experiment = experiments[experiment_key]\n",
    "    experiment.nested_attrib_cols = {\n",
    "        'Census19': ['ST', 'SCHL', 'RAC1P', 'SEX'],\n",
    "        'Texas100': ['PAT_STATUS', 'RACE', 'ADMITTING_DIAGNOSIS',  'TYPE_OF_ADMISSION', 'SOURCE_OF_ADMISSION'],\n",
    "        'Adult': ['occupation', 'work', 'race', 'sex'],\n",
    "    }[experiment.name]\n",
    "    experiment.single_kappas = {\n",
    "        'Census19': [1, 0.75, 0.5, 0.375, 0.25, 0.1, 0.05],\n",
    "        'Texas100': [1, 0.75, 0.5, 0.375, 0.25, 0.1],\n",
    "        'Adult': [1, 0.75, 0.5, 0.25, 0.1],\n",
    "    }[experiment.name]\n",
    "    experiment.nested_kappas = {\n",
    "        'Census19': [0.5, 0.375, 0.25, 0.1],\n",
    "        'Texas100': [0.5, 0.25, 0.1, 0.05, 0.01],\n",
    "        'Adult': [0.5, 0.375, 0.25, 0.1],\n",
    "    }[experiment.name]\n",
    "    experiment.subgroup_col_name = {\n",
    "        'Census19': 'ST',\n",
    "        'Texas100': 'PAT_STATUS',\n",
    "        'Adult': 'occupation',\n",
    "    }[experiment.name]"
   ]
  },
  {
   "cell_type": "markdown",
   "metadata": {},
   "source": [
    "# Single Attribute-based Targeted Attacks"
   ]
  },
  {
   "cell_type": "code",
   "execution_count": 9,
   "metadata": {},
   "outputs": [
    {
     "name": "stdout",
     "output_type": "stream",
     "text": [
      "Performance of Single Attribute Based Targeted AI: CSMIA\n",
      "\n",
      "Census19\n",
      "\n",
      "       attack_accuracy\n",
      "0.050            71.57\n",
      "0.100            69.59\n",
      "0.250            67.27\n",
      "0.375            65.87\n",
      "0.500            64.55\n",
      "0.750            62.14\n",
      "1.000            60.24\n",
      "\n",
      "Texas100\n",
      "\n",
      "       attack_accuracy\n",
      "0.100            69.76\n",
      "0.250            71.19\n",
      "0.375            67.04\n",
      "0.500            67.11\n",
      "0.750            63.68\n",
      "1.000            62.10\n",
      "\n",
      "Adult\n",
      "\n",
      "      attack_accuracy\n",
      "0.10            81.61\n",
      "0.25            74.83\n",
      "0.50            72.40\n",
      "0.75            69.16\n",
      "1.00            69.98\n"
     ]
    }
   ],
   "source": [
    "print('Performance of Single Attribute Based Targeted AI: CSMIA')\n",
    "for experiment_key in experiments:\n",
    "    experiment = experiments[experiment_key]\n",
    "    print(f'\\n{experiment.name}\\n')\n",
    "    print(single_attribute_based_targeted_ai(experiment, experiment.sens_pred, subgroup_col_name=experiment.subgroup_col_name, kappas=experiment.single_kappas))"
   ]
  },
  {
   "cell_type": "code",
   "execution_count": 10,
   "metadata": {},
   "outputs": [
    {
     "name": "stdout",
     "output_type": "stream",
     "text": [
      "Performance of Single Attribute Based Targeted AI: LOMIA\n",
      "\n",
      "Census19\n",
      "\n",
      "       attack_accuracy\n",
      "0.050            73.84\n",
      "0.100            72.96\n",
      "0.250            70.39\n",
      "0.375            69.04\n",
      "0.500            67.86\n",
      "0.750            65.95\n",
      "1.000            62.70\n",
      "\n",
      "Texas100\n",
      "\n",
      "       attack_accuracy\n",
      "0.100            70.10\n",
      "0.250            71.31\n",
      "0.375            66.81\n",
      "0.500            66.89\n",
      "0.750            62.93\n",
      "1.000            61.10\n",
      "\n",
      "Adult\n",
      "\n",
      "      attack_accuracy\n",
      "0.10            81.68\n",
      "0.25            74.86\n",
      "0.50            73.36\n",
      "0.75            69.79\n",
      "1.00            70.61\n"
     ]
    }
   ],
   "source": [
    "print('Performance of Single Attribute Based Targeted AI: LOMIA')\n",
    "for experiment_key in experiments:\n",
    "    experiment = experiments[experiment_key]\n",
    "    print(f'\\n{experiment.name}\\n')\n",
    "    print(single_attribute_based_targeted_ai(experiment, experiment.sens_pred_LOMIA, subgroup_col_name=experiment.subgroup_col_name, kappas=experiment.single_kappas))"
   ]
  },
  {
   "cell_type": "code",
   "execution_count": 11,
   "metadata": {},
   "outputs": [
    {
     "name": "stdout",
     "output_type": "stream",
     "text": [
      "Performance of Single Attribute Based Targeted Imputation: ImpI\n",
      "\n",
      "Census19\n",
      "\n",
      "       imputation_attack_accuracy\n",
      "0.050                       71.42\n",
      "0.100                       68.80\n",
      "0.250                       66.24\n",
      "0.375                       65.83\n",
      "0.500                       66.23\n",
      "0.750                       65.16\n",
      "1.000                       64.50\n",
      "\n",
      "Texas100\n",
      "\n",
      "       imputation_attack_accuracy\n",
      "0.100                       68.08\n",
      "0.250                       66.53\n",
      "0.375                       65.75\n",
      "0.500                       66.21\n",
      "0.750                       62.41\n",
      "1.000                       61.44\n",
      "\n",
      "Adult\n",
      "\n",
      "      imputation_attack_accuracy\n",
      "0.10                       75.14\n",
      "0.25                       78.29\n",
      "0.50                       77.74\n",
      "0.75                       76.81\n",
      "1.00                       74.59\n"
     ]
    }
   ],
   "source": [
    "print('Performance of Single Attribute Based Targeted Imputation: ImpI')\n",
    "for experiment_key in experiments:\n",
    "    experiment = experiments[experiment_key]\n",
    "    print(f'\\n{experiment.name}\\n')\n",
    "    print(single_attribute_based_targeted_imputation(experiment, experiment.X_train, experiment.y_tr, experiment.X_aux_same_distrib, experiment.y_aux_same_distrib, subgroup_col_name=experiment.subgroup_col_name, kappas=experiment.single_kappas))"
   ]
  },
  {
   "cell_type": "code",
   "execution_count": 12,
   "metadata": {},
   "outputs": [
    {
     "name": "stdout",
     "output_type": "stream",
     "text": [
      "Performance of Single Attribute Based Targeted Imputation: ImpP\n",
      "\n",
      "Census19\n",
      "\n",
      "       imputation_attack_accuracy\n",
      "0.050                       58.97\n",
      "0.100                       60.64\n",
      "0.250                       60.90\n",
      "0.375                       60.59\n",
      "0.500                       60.94\n",
      "0.750                       60.88\n",
      "1.000                       61.01\n",
      "\n",
      "Texas100\n",
      "\n",
      "       imputation_attack_accuracy\n",
      "0.100                       49.65\n",
      "0.250                       49.40\n",
      "0.375                       48.10\n",
      "0.500                       49.48\n",
      "0.750                       52.67\n",
      "1.000                       52.50\n",
      "\n",
      "Adult\n",
      "\n",
      "      imputation_attack_accuracy\n",
      "0.10                       65.06\n",
      "0.25                       64.94\n",
      "0.50                       65.93\n",
      "0.75                       64.68\n",
      "1.00                       62.88\n"
     ]
    }
   ],
   "source": [
    "print('Performance of Single Attribute Based Targeted Imputation: ImpP')\n",
    "for experiment_key in experiments:\n",
    "    experiment = experiments[experiment_key]\n",
    "    print(f'\\n{experiment.name}\\n')\n",
    "    print(single_attribute_based_targeted_imputation(experiment, experiment.X_train, experiment.y_tr, experiment.X_aux_diff_distrib, experiment.y_aux_diff_distrib, subgroup_col_name=experiment.subgroup_col_name, kappas=experiment.single_kappas))"
   ]
  },
  {
   "cell_type": "markdown",
   "metadata": {},
   "source": [
    "# Nested Attribute-based Targeted Attacks"
   ]
  },
  {
   "cell_type": "code",
   "execution_count": null,
   "metadata": {},
   "outputs": [
    {
     "name": "stdout",
     "output_type": "stream",
     "text": [
      "Performance of Nested Attribute Based Targeted AI: CSMIA\n",
      "\n",
      "Census19\n",
      "\n",
      "       Depth  attack_accuracy\n",
      "1.000      0            60.24\n",
      "0.500      1            64.89\n",
      "0.375      2            64.39\n",
      "0.250      3            64.28\n",
      "0.100      4            68.31\n",
      "\n",
      "Texas100\n",
      "\n",
      "      Depth  attack_accuracy\n",
      "1.00      0            62.10\n",
      "0.50      1            67.11\n",
      "0.25      2            66.14\n",
      "0.10      3            66.04\n",
      "0.05      4            66.96\n",
      "0.01      5            62.79\n",
      "\n",
      "Adult\n",
      "\n",
      "       Depth  attack_accuracy\n",
      "1.000      0            69.98\n",
      "0.500      1            71.17\n",
      "0.375      2            73.73\n",
      "0.250      3            77.52\n",
      "0.100      4            86.74\n"
     ]
    }
   ],
   "source": [
    "print('Performance of Nested Attribute Based Targeted AI: CSMIA')\n",
    "for experiment_key in experiments:\n",
    "    experiment = experiments[experiment_key]\n",
    "    print(f'\\n{experiment.name}\\n')\n",
    "    print(nested_attribute_based_targeted_ai(experiment, experiment.sens_pred, subgroup_cols=experiment.nested_attrib_cols, kappas=experiment.nested_kappas))"
   ]
  },
  {
   "cell_type": "code",
   "execution_count": 14,
   "metadata": {},
   "outputs": [
    {
     "name": "stdout",
     "output_type": "stream",
     "text": [
      "Performance of Nested Attribute Based Targeted AI: LOMIA\n",
      "\n",
      "Census19\n",
      "\n",
      "       Depth  attack_accuracy\n",
      "1.000      0            62.70\n",
      "0.500      1            68.06\n",
      "0.375      2            67.98\n",
      "0.250      3            67.95\n",
      "0.100      4            71.24\n",
      "\n",
      "Texas100\n",
      "\n",
      "      Depth  attack_accuracy\n",
      "1.00      0            61.10\n",
      "0.50      1            66.89\n",
      "0.25      2            65.91\n",
      "0.10      3            65.71\n",
      "0.05      4            66.30\n",
      "0.01      5            61.24\n",
      "\n",
      "Adult\n",
      "\n",
      "       Depth  attack_accuracy\n",
      "1.000      0            70.61\n",
      "0.500      1            72.19\n",
      "0.375      2            73.90\n",
      "0.250      3            76.88\n",
      "0.100      4            86.77\n"
     ]
    }
   ],
   "source": [
    "print('Performance of Nested Attribute Based Targeted AI: LOMIA')\n",
    "for experiment_key in experiments:\n",
    "    experiment = experiments[experiment_key]\n",
    "    print(f'\\n{experiment.name}\\n')\n",
    "    print(nested_attribute_based_targeted_ai(experiment, experiment.sens_pred_LOMIA, subgroup_cols=experiment.nested_attrib_cols, kappas=experiment.nested_kappas))"
   ]
  },
  {
   "cell_type": "code",
   "execution_count": 15,
   "metadata": {},
   "outputs": [
    {
     "name": "stdout",
     "output_type": "stream",
     "text": [
      "Performance of Nested Attribute Based Targeted Imputation: ImpI\n",
      "\n",
      "Census19\n",
      "\n",
      "       Depth  attack_accuracy\n",
      "1.000      0            64.50\n",
      "0.500      1            66.08\n",
      "0.375      2            66.17\n",
      "0.250      3            66.17\n",
      "0.100      4            69.00\n",
      "\n",
      "Texas100\n",
      "\n",
      "      Depth  attack_accuracy\n",
      "1.00      0            61.44\n",
      "0.50      1            64.51\n",
      "0.25      2            64.51\n",
      "0.10      3            72.49\n",
      "0.05      4            79.03\n",
      "0.01      5            83.18\n",
      "\n",
      "Adult\n",
      "\n",
      "       Depth  attack_accuracy\n",
      "1.000      0            74.59\n",
      "0.500      1            77.74\n",
      "0.375      2            77.74\n",
      "0.250      3            77.93\n",
      "0.100      4            86.21\n"
     ]
    }
   ],
   "source": [
    "print('Performance of Nested Attribute Based Targeted Imputation: ImpI')\n",
    "for experiment_key in experiments:\n",
    "    experiment = experiments[experiment_key]\n",
    "    print(f'\\n{experiment.name}\\n')\n",
    "    print(nested_attribute_based_targeted_imputation(experiment, experiment.X_train, experiment.y_tr, experiment.X_aux_same_distrib, experiment.y_aux_same_distrib, subgroup_cols=experiment.nested_attrib_cols, kappas=experiment.nested_kappas))"
   ]
  },
  {
   "cell_type": "code",
   "execution_count": 16,
   "metadata": {},
   "outputs": [
    {
     "name": "stdout",
     "output_type": "stream",
     "text": [
      "Performance of Nested Attribute Based Targeted Imputation: ImpP\n",
      "\n",
      "Census19\n",
      "\n",
      "       Depth  attack_accuracy\n",
      "1.000      0            61.01\n",
      "0.500      1            61.06\n",
      "0.375      2            61.19\n",
      "0.250      3            61.19\n",
      "0.100      4            64.36\n",
      "\n",
      "Texas100\n",
      "\n",
      "      Depth  attack_accuracy\n",
      "1.00      0            52.50\n",
      "0.50      1            50.31\n",
      "0.25      2            50.31\n",
      "0.10      3            54.90\n",
      "0.05      4            54.90\n",
      "0.01      5            56.19\n",
      "\n",
      "Adult\n",
      "\n",
      "       Depth  attack_accuracy\n",
      "1.000      0            62.88\n",
      "0.500      1            65.93\n",
      "0.375      2            65.73\n",
      "0.250      3            66.50\n",
      "0.100      4            70.30\n"
     ]
    }
   ],
   "source": [
    "print('Performance of Nested Attribute Based Targeted Imputation: ImpP')\n",
    "for experiment_key in experiments:\n",
    "    experiment = experiments[experiment_key]\n",
    "    print(f'\\n{experiment.name}\\n')\n",
    "    print(nested_attribute_based_targeted_imputation(experiment, experiment.X_train, experiment.y_tr, experiment.X_aux_diff_distrib, experiment.y_aux_diff_distrib, subgroup_cols=experiment.nested_attrib_cols, kappas=experiment.nested_kappas))"
   ]
  }
 ],
 "metadata": {
  "colab": {
   "provenance": []
  },
  "gpuClass": "standard",
  "kernelspec": {
   "display_name": "tabular",
   "language": "python",
   "name": "python3"
  },
  "language_info": {
   "codemirror_mode": {
    "name": "ipython",
    "version": 3
   },
   "file_extension": ".py",
   "mimetype": "text/x-python",
   "name": "python",
   "nbconvert_exporter": "python",
   "pygments_lexer": "ipython3",
   "version": "3.9.16"
  }
 },
 "nbformat": 4,
 "nbformat_minor": 4
}
